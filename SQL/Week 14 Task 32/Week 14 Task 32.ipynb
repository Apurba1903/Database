{
  "cells": [
    {
      "cell_type": "markdown",
      "metadata": {
        "id": "O-kYKh3Z3HoZ"
      },
      "source": [
        "# Task for SQL DML session\n",
        "\n",
        "Load this dataset in your database and perform below given tasks.\n",
        "\n",
        "DataSet - https://docs.google.com/spreadsheets/d/e/2PACX-1vRa1wWwXmzxEvqITxj4OQTeLywlGTTsOTbhSRqKj2lPuGefjlci-DQhgLBPpgWXe8AAUu2WUBqY59X1/pub?gid=1030172542&single=true&output=csv\n",
        "\n",
        "Look for data description\n",
        "\n",
        "Kaggle - https://www.kaggle.com/datasets/thedevastator/insurance-claim-analysis-demographic-and-health?select=insurance_data.csv"
      ]
    },
    {
      "cell_type": "markdown",
      "metadata": {
        "id": "HgeiRIpI3MjR"
      },
      "source": [
        "### Perform the following queries\n",
        "\n",
        "1. Show records of 'male' patient from 'southwest' region.\n",
        "2. Show all records having bmi in range 30 to 45 both inclusive.\n",
        "3. Show minimum and maximum bloodpressure of diabetic patient who smokes. Make column names as MinBP and MaxBP respectively.\n",
        "4. Find no of unique patients who are not from southwest region.\n",
        "5. Total claim amount from male smoker.\n",
        "6. Select all records of south region.\n",
        "7. No of patient having normal blood pressure. Normal range[90-120]\n",
        "8. No of pateint belo 17 years of age having normal blood pressure as per below formula -\n",
        "    - BP normal range = 80+(age in years × 2) to 100 + (age in years × 2)\n",
        "\n",
        "    - Note: Formula taken just for practice, don't take in real sense.\n",
        "9. What is the average claim amount for non-smoking female patients who are diabetic?\n",
        "10. Write a SQL query to update the claim amount for the patient with PatientID = 1234 to 5000.\n",
        "11. Write a SQL query to delete all records for patients who are smokers and have no children.\n"
      ]
    },
    {
      "cell_type": "code",
      "execution_count": null,
      "metadata": {
        "id": "56rYZ7bf3IJh"
      },
      "outputs": [],
      "source": [
        "1. \n",
        "\n",
        "SELECT * FROM insurance.insurance_data\n",
        "WHERE gender = 'male' AND region = 'southwest';"
      ]
    },
    {
      "cell_type": "code",
      "execution_count": null,
      "metadata": {},
      "outputs": [],
      "source": [
        "2. \n",
        "\n",
        "SELECT * FROM insurance.insurance_data\n",
        "WHERE bmi BETWEEN 30 AND 45;"
      ]
    },
    {
      "cell_type": "code",
      "execution_count": null,
      "metadata": {},
      "outputs": [],
      "source": [
        "3. \n",
        "\n",
        "SELECT MIN(bloodpressure) AS 'MinBP', MAX(bloodpressure) AS 'MaxBP'\n",
        "FROM insurance.insurance_data\n",
        "WHERE diabetic = 'Yes' AND smoker = 'Yes';"
      ]
    },
    {
      "cell_type": "code",
      "execution_count": null,
      "metadata": {},
      "outputs": [],
      "source": [
        "4.\n",
        "\n",
        "SELECT COUNT(DISTINCT(PatientID))\n",
        "FROM insurance.insurance_data\n",
        "WHERE region !=  'southwest';"
      ]
    },
    {
      "cell_type": "code",
      "execution_count": null,
      "metadata": {},
      "outputs": [],
      "source": [
        "5.\n",
        "\n",
        "SELECT SUM(claim) \n",
        "FROM insurance.insurance_data\n",
        "WHERE gender = 'male';"
      ]
    },
    {
      "cell_type": "code",
      "execution_count": null,
      "metadata": {},
      "outputs": [],
      "source": [
        "6.\n",
        "\n",
        "SELECT *\n",
        "FROM insurance.insurance_data\n",
        "WHERE region = 'southeast' OR region = 'southwest';"
      ]
    },
    {
      "cell_type": "code",
      "execution_count": null,
      "metadata": {},
      "outputs": [],
      "source": [
        "7.\n",
        "\n",
        "SELECT COUNT(*)\n",
        "FROM insurance.insurance_data\n",
        "WHERE bloodpressure BETWEEN 90 AND 120;"
      ]
    },
    {
      "cell_type": "code",
      "execution_count": null,
      "metadata": {},
      "outputs": [],
      "source": [
        "8.\n",
        "\n",
        "SELECT COUNT(*)\n",
        "FROM insurance.insurance_data\n",
        "WHERE age < 17 AND \n",
        "bloodpressure BETWEEN 80+(age * 2) AND 100+(age * 2);"
      ]
    },
    {
      "cell_type": "code",
      "execution_count": null,
      "metadata": {},
      "outputs": [],
      "source": [
        "9.\n",
        "\n",
        "SELECT AVG(claim)\n",
        "FROM insurance.insurance_data\n",
        "WHERE gender = 'female' AND smoker = 'No' AND diabetic = 'Yes';"
      ]
    },
    {
      "cell_type": "code",
      "execution_count": null,
      "metadata": {},
      "outputs": [],
      "source": [
        "10.\n",
        "\n",
        "UPDATE insurance.insurance_data\n",
        "SET claim = 5000\n",
        "WHERE PatientID = 1234;"
      ]
    },
    {
      "cell_type": "code",
      "execution_count": null,
      "metadata": {},
      "outputs": [],
      "source": [
        "11.\n",
        "\n",
        "DELETE FROM insurance.insurance_data\n",
        "WHERE smoker = 'Yes' AND children = 0;"
      ]
    }
  ],
  "metadata": {
    "colab": {
      "provenance": []
    },
    "kernelspec": {
      "display_name": "Python 3",
      "name": "python3"
    },
    "language_info": {
      "name": "python"
    }
  },
  "nbformat": 4,
  "nbformat_minor": 0
}
