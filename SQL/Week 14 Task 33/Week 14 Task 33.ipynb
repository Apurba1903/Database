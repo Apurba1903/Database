{
  "cells": [
    {
      "cell_type": "markdown",
      "metadata": {
        "id": "_GfKmtlR3Vcb"
      },
      "source": [
        "## Sleep Efficiency Dataset\n",
        "For questions 1-5, you can find the dataset and details about it from [here](https://www.kaggle.com/datasets/equilibriumm/sleep-efficiency).\n",
        "\n",
        "`ID`\n",
        "a unique identifier for each test subject\n",
        "\n",
        "`Age`\n",
        "age of the test subject\n",
        "\n",
        "`Gender`\n",
        "male or female\n",
        "\n",
        "`Bedtime`\n",
        "the time the test subject goes to bed each night\n",
        "\n",
        "`Wakeup time`\n",
        "the time the test subject wakes up each morning\n",
        "\n",
        "`Sleep duration`\n",
        "the total amount of time the test subject slept (in hours)\n",
        "\n",
        "`Sleep efficiency`\n",
        "a measure of the proportion of time in bed spent asleep\n",
        "\n",
        "`REM sleep percentage`\n",
        "the percentage of total sleep time spent in REM sleep\n",
        "\n",
        "`Deep sleep percentage`\n",
        "the percentage of total sleep time spent in deep sleep\n",
        "\n",
        "`Light sleep percentage`\n",
        "the percentage of total sleep time spent in light sleep\n",
        "\n",
        "`Awakenings`\n",
        "the number of times the test subject wakes up during the night\n",
        "\n",
        "`Caffeine consumption`\n",
        "the amount of caffeine consumed in the 24 hours prior to bedtime (in mg)\n",
        "\n",
        "`Alcohol consumption`\n",
        "the amount of alcohol consumed in the 24 hours prior to bedtime (in oz)\n",
        "\n",
        "`Smoking status`\n",
        "whether or not the test subject smokes\n",
        "\n",
        "`Exercise frequency`\n",
        "the number of times the test subject exercises each week\n",
        "\n"
      ]
    },
    {
      "cell_type": "markdown",
      "metadata": {
        "id": "AH94HTr93eW6"
      },
      "source": [
        "### **`Problem 1:`** Find out the average sleep duration of top 15 male candidates who's sleep duration are equal to 7.5 or greater than 7.5.\n",
        "\n",
        "\n",
        "### `Problem 2:` Show avg deep sleep time for both gender. Round result at 2 decimal places.\n",
        "\n",
        "Note: sleep time and deep sleep percentage will give you, deep sleep time.\n",
        "\n",
        "\n",
        "### **`Problem 3:`** Find out the lowest 10th to 30th light sleep percentage records where deep sleep percentage values are between 25 to 45. Display age, light sleep percentage and deep sleep percentage columns only.\n",
        "\n",
        "\n",
        "\n",
        "### `Problem 4:` Group by on exercise frequency and smoking status and show average deep sleep time, average light sleep time and avg rem sleep time.\n",
        "\n",
        "* Note the differences in deep sleep time for smoking and non smoking status\n",
        "\n",
        "\n",
        "\n",
        "### `Problem 5:` Group By on Awekning and show AVG Caffeine consumption, AVG Deep sleep time and AVG Alcohol consumption only for people who do exercise atleast 3 days a week. Show result in descending order awekenings"
      ]
    },
    {
      "cell_type": "code",
      "execution_count": null,
      "metadata": {
        "id": "Eq7CQ4K03vPC"
      },
      "outputs": [],
      "source": [
        "# Answer 1\n",
        "SELECT \n",
        "AVG(`Sleep duration`) AS 'avg_sleep_duration'\n",
        "FROM tasks.sleep_efficiency\n",
        "WHERE `Sleep duration` >= 7.5 AND Gender = 'Male'\n",
        "ORDER BY `Sleep duration` DESC\n",
        "LIMIT 15;\n",
        "\n",
        "\n",
        "# Answer 2\n",
        "SELECT Gender,\n",
        "ROUND(AVG((`Sleep duration` * `Deep sleep percentage`)/100), 2) AS 'avg_deep_sleep_time'\n",
        "FROM tasks.sleep_efficiency\n",
        "GROUP BY Gender;\n",
        "\n",
        "\n",
        "# Answer 3\n",
        "SELECT Age,\n",
        "`Light sleep percentage`,\n",
        "`Deep sleep percentage`\n",
        "FROM tasks.sleep_efficiency\n",
        "WHERE `Deep sleep percentage` BETWEEN 25 AND 45\n",
        "ORDER BY `Light sleep percentage` ASC\n",
        "LIMIT 10, 20;\n",
        "\n",
        "\n",
        "# Answer 4\n",
        "SELECT `Smoking status`, `Exercise frequency`,\n",
        "ROUND(AVG((`Sleep duration` * `Deep sleep percentage`)/100), 2) AS 'avg_deep_sleep_time',\n",
        "ROUND(AVG((`Sleep duration` * `Light sleep percentage`)/100), 2) AS 'avg_light_sleep_time',\n",
        "ROUND(AVG((`Sleep duration` * `REM sleep percentage`)/100), 2) AS 'avg_rem_sleep_time'\n",
        "FROM tasks.sleep_efficiency\n",
        "GROUP BY `Exercise frequency`, `Smoking status`\n",
        "ORDER BY avg_deep_sleep_time DESC;\n",
        "\n",
        "\n",
        "# Answer 5\n",
        "SELECT \n",
        "Awakenings,\n",
        "ROUND(AVG(`Caffeine consumption`), 2) AS 'avg_caffine_comp',\n",
        "ROUND(AVG((`Sleep duration` * `Deep sleep percentage`)/100), 2) AS 'avg_deep_sleep_time',\n",
        "ROUND(AVG(`Alcohol consumption`), 2) AS 'avg_alcoh_comp'\n",
        "FROM tasks.sleep_efficiency\n",
        "WHERE `Exercise frequency` >= 3\n",
        "GROUP BY Awakenings\n",
        "ORDER BY Awakenings DESC;"
      ]
    },
    {
      "cell_type": "markdown",
      "metadata": {
        "id": "Pn5NOwhR3wgZ"
      },
      "source": [
        "## Power Generation Dataset\n",
        "\n",
        "For this question, you can find the details as well as the dataset from [here](https://www.kaggle.com/datasets/arvindnagaonkar/power-generation-data)."
      ]
    },
    {
      "cell_type": "markdown",
      "metadata": {
        "id": "1_K7ZXQG3zGJ"
      },
      "source": [
        "### **`Problem 6:`**\n",
        "\n",
        "\n",
        "\n",
        "**The question is:**\n",
        "\n",
        "Display those power stations which have average 'Monitored Cap.(MW)' (display the values) between 1000 and 2000 and the number of occurance of the power stations (also display these values) are\n",
        "greater than 200. Also sort the result in ascending order.\n",
        "\n",
        "\n"
      ]
    },
    {
      "cell_type": "code",
      "execution_count": null,
      "metadata": {
        "id": "Y_YgMTp03ygI"
      },
      "outputs": [],
      "source": [
        "# Answer 6\n",
        "\n",
        "SELECT `Power Station`,\n",
        "ROUND(AVG(`Monitored Cap.(MW)`), 2) AS 'avg_monitored_cap',\n",
        "COUNT(*) AS 'occurance'\n",
        "FROM tasks.powergeneration\n",
        "GROUP BY `Power Station`\n",
        "HAVING (occurance > 200) AND (avg_monitored_cap BETWEEN 1000 AND 2000)\n",
        "ORDER BY avg_monitored_cap ASC;"
      ]
    },
    {
      "cell_type": "markdown",
      "metadata": {
        "id": "S4vjoWDu36Br"
      },
      "source": [
        "## Avg Cost of Undergrad College by State(USA) Dataset-\n",
        "For this question, you can find the detailed dataset from [here](https://www.kaggle.com/datasets/kfoster150/avg-cost-of-undergrad-college-by-state).\n",
        "\n",
        "`Year`\n",
        "The Digest year this information comes from\n",
        "\n",
        "`State`\n",
        "The U.S. State\n",
        "\n",
        "`Type`\n",
        "Type of University, Private or Public and in-state or out-of-state. Private colleges charge the same for in/out of state\n",
        "\n",
        "`Length`\n",
        "Whether the college mainly offers 2-year (Associates) or 4-year (Bachelors) programs\n",
        "\n",
        "`Expense`\n",
        "The Expense being described, tuition/fees or on-campus living expenses\n",
        "\n",
        "`Value`\n",
        "The average cost for this particular expense, in USD ($)"
      ]
    },
    {
      "cell_type": "markdown",
      "metadata": {
        "id": "VxlMC6yw3-B_"
      },
      "source": [
        "### `Problem 7:` Display top 10 lowest \"value\" State names of which the Year either belong to 2013 or 2017 or 2021 and type is 'Public In-State'. Also the number of occurance should be between 6 to 10. Display the average value upto 2 decimal places, state names and the occurance of the states.\n",
        "\n",
        "\n",
        "### `Problem -8:` Best state in terms of low education cost (Tution Fees) in 'Public' type university.\n",
        "\n",
        "\n",
        "### `Problem 9:` 2nd Costliest state for Private education in year 2021. Consider, Tution and Room fee both."
      ]
    },
    {
      "cell_type": "code",
      "execution_count": null,
      "metadata": {
        "id": "12CBSFog39VC"
      },
      "outputs": [],
      "source": [
        "# Answer 7\n",
        "SELECT State,\n",
        "COUNT(*) AS 'occurance',\n",
        "ROUND(AVG(Value), 2) AS 'avg_values'\n",
        "FROM tasks.nces330_20\n",
        "WHERE Year = 2013 OR Year = 2017 OR Year =  202 AND Type = 'Public In-State'\n",
        "GROUP BY State\n",
        "HAVING occurance BETWEEN 6 AND 10\n",
        "ORDER BY avg_values ASC\n",
        "LIMIT 10;\n",
        "\n",
        "\n",
        "# Answer 8\n",
        "SELECT State,\n",
        "ROUND(AVG(Value), 2) AS 'avg_values'\n",
        "FROM tasks.nces330_20\n",
        "WHERE Type LIKE '%Public%'  AND Expense LIKE '%Tuition%'\n",
        "GROUP BY State\n",
        "ORDER BY avg_values ASC\n",
        "LIMIT 1;\n",
        "\n",
        "\n",
        "# Answer 9\n",
        "SELECT State,\n",
        "ROUND(AVG(Value), 2) AS 'avg_values'\n",
        "FROM tasks.nces330_20\n",
        "WHERE Year = 2021 AND Type LIKE '%Private%'\n",
        "GROUP BY State\n",
        "ORDER BY avg_values DESC\n",
        "LIMIT 1,1;"
      ]
    },
    {
      "cell_type": "markdown",
      "metadata": {
        "id": "-gWZEkBb4JpJ"
      },
      "source": [
        "### **`Problem 10:`**\n",
        "\n",
        "For this, you can find the dataset from [here]().\n",
        "\n",
        "**The question is:**\n",
        "\n",
        "Display total and average values of Discount_offered for all the combinations of 'Mode_of_Shipment' (display this feature) and 'Warehouse_block' (display this feature also) for all male ('M') and 'High' Product_importance. Also sort the values in descending order of Mode_of_Shipment and ascending order of Warehouse_block."
      ]
    },
    {
      "cell_type": "code",
      "execution_count": null,
      "metadata": {
        "id": "Q7wXusCe4KN9"
      },
      "outputs": [],
      "source": [
        "# Answer 10\n",
        "SELECT Mode_of_Shipment,\n",
        "Warehouse_block,\n",
        "SUM(Discount_offered) AS 'total_discount_number',\n",
        "AVG(Discount_offered) AS 'avg_discount_offered'\n",
        "FROM tasks.shipping_ecommerce\n",
        "WHERE Gender = 'M' AND Product_importance = 'High'\n",
        "GROUP BY Mode_of_Shipment, Warehouse_block\n",
        "ORDER BY Mode_of_Shipment DESC, Warehouse_block ASC;"
      ]
    }
  ],
  "metadata": {
    "colab": {
      "provenance": []
    },
    "kernelspec": {
      "display_name": "Python 3",
      "name": "python3"
    },
    "language_info": {
      "name": "python"
    }
  },
  "nbformat": 4,
  "nbformat_minor": 0
}
